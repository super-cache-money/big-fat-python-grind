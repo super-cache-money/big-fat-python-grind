{
 "cells": [
  {
   "cell_type": "markdown",
   "metadata": {
    "slideshow": {
     "slide_type": "slide"
    }
   },
   "source": [
    "# Welcom To The Big Fat Python Grind\n",
    "### by Arjun Khoosal and Adam Piskorski\n",
    "\n",
    "Get this notebook, and the rest of the slides, at https://github.com/super-cache-money/big-fat-python-grind\n",
    "\n",
    "\n",
    "\n",
    "\n",
    "Also, you'll need [Python **3.5.1**](https://www.python.org/downloads/) and [PyCharm **Community Edition**](https://www.jetbrains.com/pycharm/download/)"
   ]
  },
  {
   "cell_type": "markdown",
   "metadata": {
    "slideshow": {
     "slide_type": "slide"
    }
   },
   "source": [
    "# Why Python?\n",
    "\n",
    "- Modern\n",
    "    - although origin ~1991\n",
    "- Object-orientated\n",
    "    - rather than being an afterthought\n",
    "- A high-level language\n",
    "- (The most?) general purpose language"
   ]
  },
  {
   "cell_type": "markdown",
   "metadata": {
    "slideshow": {
     "slide_type": "slide"
    }
   },
   "source": [
    "# The Zen of Python\n",
    "\n",
    "- Beautiful is better than ugly.\n",
    "- Explicit is better than implicit.\n",
    "- Simple is better than complex.\n",
    "- Complex is better than complicated.\n",
    "- Flat is better than nested.\n",
    "- Sparse is better than dense.\n",
    "- Readability counts.\n",
    "- Now is better than never.\n",
    "- Although never is often better than *right* now.\n",
    "- If the implementation is hard to explain, it's a bad idea.\n",
    "\n",
    "More on https://www.python.org/dev/peps/pep-0020/"
   ]
  },
  {
   "cell_type": "markdown",
   "metadata": {
    "slideshow": {
     "slide_type": "slide"
    }
   },
   "source": [
    "# Python Features\n",
    "- no compiling or linking **->** Rapid development cycle\n",
    "- no type declerations **->** Simpler, shorter, more flexible\n",
    "- garbage collection **->** automatic memory management\n",
    "- high level data types and operations **->** fast development\n",
    "- object-orientated programming **->** good code structure and reusability\n",
    "- classes, modules, exceptions **->** suitable for large scale stable systems\n",
    "- dynamic loading of C modules **->** simplified C extensions\n",
    "- dynamic reloading of C **->** programs can be modified without stopping\n"
   ]
  },
  {
   "cell_type": "markdown",
   "metadata": {
    "slideshow": {
     "slide_type": "slide"
    }
   },
   "source": [
    "# Python Features (cont.)\n",
    "- universal \"first-class\" object model **->** fewer restrictions and rules\n",
    "- run-time program construction **->** handles unforeseen needs, end-user coding\n",
    "- interactive, dynamic nature **->** incremental developent and testing\n",
    "- Package management **->** rapidly share/load modules via PyPi\n",
    "- Wide Portability **->** Cross-platform programming without ports\n",
    "- Compilation to portable byte-code **->** execution speed, protecting source code\n",
    "- build-in interfaces to external services **->** system tools, GUI's, databases, etc."
   ]
  },
  {
   "cell_type": "markdown",
   "metadata": {
    "slideshow": {
     "slide_type": "slide"
    }
   },
   "source": [
    "# Python vs. Java"
   ]
  },
  {
   "cell_type": "markdown",
   "metadata": {
    "slideshow": {
     "slide_type": "fragment"
    }
   },
   "source": [
    "## Java\n",
    "\n",
    "    public class Test {\n",
    "        public static void main(String [] args) {\n",
    "            System.out.println('Hello everyone');\n",
    "        }\n",
    "    }"
   ]
  },
  {
   "cell_type": "markdown",
   "metadata": {
    "slideshow": {
     "slide_type": "fragment"
    }
   },
   "source": [
    "## Python\n",
    "\n",
    "    print('Hello everyone!')"
   ]
  },
  {
   "cell_type": "markdown",
   "metadata": {
    "slideshow": {
     "slide_type": "slide"
    }
   },
   "source": [
    "# Uses of Python\n",
    "\n",
    " - shell tools (system admin tools, command line programs)\n",
    " - extension-language work\n",
    " - rapid prototyping and development\n",
    " - language-based modules (instead of special-purpose parsers)\n",
    " - graphical user interfaces\n",
    " - database access\n",
    " - distributed programming\n",
    " - web applications"
   ]
  },
  {
   "cell_type": "markdown",
   "metadata": {
    "slideshow": {
     "slide_type": "slide"
    }
   },
   "source": [
    "# What not to use python for (conventionally)\n",
    "\n",
    "### Anything that needs to be *really* fast and/or have a *tiny* footprint\n",
    "\n",
    "- Compilers\n",
    "- Graphically intensive video game\n",
    "- Embedded Programming\n",
    "- The core of a search engine"
   ]
  },
  {
   "cell_type": "markdown",
   "metadata": {
    "slideshow": {
     "slide_type": "slide"
    }
   },
   "source": [
    "# Python structure\n",
    "\n",
    "#### Modules: \n",
    "- Python .py source files or built in python modules\n",
    "\n",
    "#### Statements:\n",
    "- Control flow\n",
    "- Create objects\n",
    "- Indentation matters – instead of { }\n",
    "\n",
    "#### Objects:\n",
    "- Everything is an object\n",
    "- Automatically reclaimed when no longer needed\n"
   ]
  },
  {
   "cell_type": "markdown",
   "metadata": {
    "slideshow": {
     "slide_type": "slide"
    }
   },
   "source": [
    "# First Example\n",
    "\n",
    "\timport os\n",
    "\twalkDir = '/Users/arjun/Desktop'\n",
    "\tfor root, dirs, files in os.walk(walkDir):\n",
    "\t    print('current position: ',root)\n",
    "\t    print('directories: ', dirs)\n",
    "\t    print('files: ', files)\n",
    "\t\n",
    "\t#this is a comment\n"
   ]
  },
  {
   "cell_type": "markdown",
   "metadata": {
    "slideshow": {
     "slide_type": "slide"
    }
   },
   "source": [
    "# Basic operations\n",
    "### Assignment:\n",
    "- `size = 40`\n",
    "- `a = b = c = 3 + 1`\n",
    "\n",
    "### Numbers:\n",
    "- integer, float\n",
    "- complex numbers: `1j + 3`, `abs(z)`\n",
    "\n",
    "### Strings:\n",
    "- `'hello word'`, `'it\\'s hot'`\n",
    "- `\"bye world\"`\n",
    "- continuation via ` \\ ` or use: `\"\"\"long text\"\"\"`"
   ]
  },
  {
   "cell_type": "markdown",
   "metadata": {
    "slideshow": {
     "slide_type": "slide"
    }
   },
   "source": [
    "# Interactive Input and Output"
   ]
  },
  {
   "cell_type": "code",
   "execution_count": 16,
   "metadata": {
    "collapsed": false,
    "slideshow": {
     "slide_type": "fragment"
    }
   },
   "outputs": [
    {
     "name": "stdout",
     "output_type": "stream",
     "text": [
      "Africa has 53 countries lol\n"
     ]
    }
   ],
   "source": [
    "# output with print statement\n",
    "print('Africa has', 53, 'countries lol')"
   ]
  },
  {
   "cell_type": "code",
   "execution_count": 15,
   "metadata": {
    "collapsed": false,
    "scrolled": true,
    "slideshow": {
     "slide_type": "fragment"
    }
   },
   "outputs": [
    {
     "name": "stdout",
     "output_type": "stream",
     "text": [
      "Enter your name: Arjun\n",
      "Sup Arjun\n"
     ]
    }
   ],
   "source": [
    "# receive input with input()\n",
    "name = input('Enter your name: ')\n",
    "print('Sup', name)"
   ]
  },
  {
   "cell_type": "markdown",
   "metadata": {
    "slideshow": {
     "slide_type": "slide"
    }
   },
   "source": [
    "# File Input and Output"
   ]
  },
  {
   "cell_type": "code",
   "execution_count": 19,
   "metadata": {
    "collapsed": false,
    "scrolled": true,
    "slideshow": {
     "slide_type": "fragment"
    }
   },
   "outputs": [
    {
     "name": "stdout",
     "output_type": "stream",
     "text": [
      "Contents: Hello there grinders  :)\n"
     ]
    }
   ],
   "source": [
    "with open('testfile.txt', 'r') as file_var:\n",
    "    contents = file_var.read()\n",
    "    print('Contents:', contents)"
   ]
  },
  {
   "cell_type": "markdown",
   "metadata": {
    "slideshow": {
     "slide_type": "fragment"
    }
   },
   "source": [
    "## Syntax: `open(name, mode)`\n",
    "- name\n",
    " - name of a file\n",
    "- mode\n",
    " - 'a': allow writing, appending to previous content\n",
    " - 'w': allow writing, deleting previous content\n",
    " - 'r': allow reading only"
   ]
  },
  {
   "cell_type": "markdown",
   "metadata": {
    "slideshow": {
     "slide_type": "slide"
    }
   },
   "source": [
    "# File Input and Output (cont.)\n",
    "`data = file.read()`\n",
    "- returns a string containing file contents\n",
    "\n",
    "`file.write(data)`\n",
    "- Writes data to file, assuming it was opened in `'a'` or `'w'` modes"
   ]
  },
  {
   "cell_type": "markdown",
   "metadata": {
    "slideshow": {
     "slide_type": "slide"
    }
   },
   "source": [
    "# String Operations\n"
   ]
  },
  {
   "cell_type": "code",
   "execution_count": 23,
   "metadata": {
    "collapsed": false,
    "slideshow": {
     "slide_type": "fragment"
    }
   },
   "outputs": [
    {
     "name": "stdout",
     "output_type": "stream",
     "text": [
      "hello there\n",
      "goodbye\n"
     ]
    }
   ],
   "source": [
    "# Concatenate using + or just neighbouring\n",
    "greeting = 'hello' + ' there'\n",
    "print(greeting)\n",
    "farewell = 'good' 'bye'\n",
    "print(farewell)"
   ]
  },
  {
   "cell_type": "code",
   "execution_count": 28,
   "metadata": {
    "collapsed": false,
    "slideshow": {
     "slide_type": "fragment"
    }
   },
   "outputs": [
    {
     "name": "stdout",
     "output_type": "stream",
     "text": [
      "At index 2: j\n",
      "From index 1, ending before 3: rj\n",
      "The last letter: n\n",
      "The length: 5\n"
     ]
    }
   ],
   "source": [
    "# substrings\n",
    "my_name = 'Arjun'\n",
    "print('At index 2:', my_name[2])\n",
    "print('From index 1, ending before 3:', my_name[1:3])\n",
    "print('From index 2 onwards', my_name[2:])\n",
    "print('The last letter:', my_name[-1])\n",
    "print('The length:', len(my_name))\n",
    "\n",
    "# BTW: substrings are immutable(you can't assign to them)\n"
   ]
  },
  {
   "cell_type": "markdown",
   "metadata": {
    "slideshow": {
     "slide_type": "slide"
    }
   },
   "source": [
    "# String operations (cont.)\n",
    "\n",
    "- You cannot use **`+`** or **`-`** on different types\n",
    "- Conversion is necessary\n",
    "    - `str(anything)` -> string\n",
    "    - `int(anything)` -> number\n"
   ]
  },
  {
   "cell_type": "code",
   "execution_count": 32,
   "metadata": {
    "collapsed": false,
    "slideshow": {
     "slide_type": "fragment"
    }
   },
   "outputs": [
    {
     "name": "stdout",
     "output_type": "stream",
     "text": [
      "our democracy is 22 years old!\n"
     ]
    }
   ],
   "source": [
    "age = 22\n",
    "msg = 'our democracy is ' + str(age) + ' years old!'\n",
    "print (msg)"
   ]
  },
  {
   "cell_type": "markdown",
   "metadata": {
    "slideshow": {
     "slide_type": "slide"
    }
   },
   "source": [
    "# Lists"
   ]
  },
  {
   "cell_type": "code",
   "execution_count": 37,
   "metadata": {
    "collapsed": false,
    "slideshow": {
     "slide_type": "-"
    }
   },
   "outputs": [
    {
     "name": "stdout",
     "output_type": "stream",
     "text": [
      "indexed like a string: 100\n",
      "sliced like a string: ['idwork', 100]\n",
      "modifed: ['tshepo', 500000, 'javascript > python', ['product', 'placement'], 4]\n"
     ]
    }
   ],
   "source": [
    "# can be heterogenous (have different types)\n",
    "a = ['idwork', 100, 'jozihub', ['product', 'placement']]\n",
    "\n",
    "print('indexed like a string:', a[1])\n",
    "print('sliced like a string:', a[:2])\n",
    "\n",
    "#lists can be manipulated\n",
    "a[0:2] = ['tshepo', 500000]\n",
    "a[2] = 'javascript > python' \n",
    "a.append(len(a)) # adding the length of the list to itself\n",
    "print('modifed:', a)\n"
   ]
  },
  {
   "cell_type": "markdown",
   "metadata": {
    "slideshow": {
     "slide_type": "slide"
    }
   },
   "source": [
    "# Control Flow: if"
   ]
  },
  {
   "cell_type": "code",
   "execution_count": 45,
   "metadata": {
    "collapsed": false,
    "slideshow": {
     "slide_type": "-"
    }
   },
   "outputs": [
    {
     "name": "stdout",
     "output_type": "stream",
     "text": [
      "Enter a number, quick:5\n",
      "It's a party\n"
     ]
    }
   ],
   "source": [
    "x = int(input('Enter a number, quick:'))\n",
    "if x < 0:\n",
    "    x = 0\n",
    "elif x == 0:\n",
    "    print('Zilch')\n",
    "elif x == 1:\n",
    "    print('The number of cobal devs left')\n",
    "else:\n",
    "    print(\"It's a party\")"
   ]
  },
  {
   "cell_type": "markdown",
   "metadata": {
    "slideshow": {
     "slide_type": "slide"
    }
   },
   "source": [
    "# Control Flow: for"
   ]
  },
  {
   "cell_type": "code",
   "execution_count": 49,
   "metadata": {
    "collapsed": false
   },
   "outputs": [
    {
     "name": "stdout",
     "output_type": "stream",
     "text": [
      "lets 4\n",
      "print 5\n",
      "word 4\n",
      "lengths 7\n"
     ]
    }
   ],
   "source": [
    "littleListy = ['lets', 'print', 'word', 'lengths']\n",
    "for x in littleListy:\n",
    "    print(x, len(x))"
   ]
  },
  {
   "cell_type": "code",
   "execution_count": 51,
   "metadata": {
    "collapsed": false
   },
   "outputs": [
    {
     "name": "stdout",
     "output_type": "stream",
     "text": [
      "0\n",
      "1\n",
      "2\n",
      "3\n"
     ]
    }
   ],
   "source": [
    "# loop not designed specifically for integers, but we can do so\n",
    "for i in range(4):\n",
    "    print(i)"
   ]
  },
  {
   "cell_type": "markdown",
   "metadata": {},
   "source": [
    "Don't modify the list being looped over...ever."
   ]
  },
  {
   "cell_type": "markdown",
   "metadata": {
    "slideshow": {
     "slide_type": "slide"
    }
   },
   "source": [
    "# Loops: Break, continue, else\n",
    "\n",
    "- `break` and `continue` like C/java\n",
    "- `else` will run after loop is naturally exhausted without intervention\n"
   ]
  },
  {
   "cell_type": "code",
   "execution_count": 55,
   "metadata": {
    "collapsed": false
   },
   "outputs": [
    {
     "name": "stdout",
     "output_type": "stream",
     "text": [
      "2 is prime\n",
      "3 is prime\n",
      "4 equals 2 * 2\n",
      "5 is prime\n",
      "6 equals 2 * 3\n",
      "7 is prime\n",
      "8 equals 2 * 4\n",
      "9 equals 3 * 3\n"
     ]
    }
   ],
   "source": [
    "for n in range(2,10):\n",
    "    for x in range(2,n):\n",
    "        if n % x == 0:\n",
    "            print(n, 'equals', x, '*', int(n/x))\n",
    "            break\n",
    "    else:\n",
    "        #loop was exhausted before a factor was found\n",
    "        print(n, 'is prime') "
   ]
  },
  {
   "cell_type": "markdown",
   "metadata": {
    "slideshow": {
     "slide_type": "slide"
    }
   },
   "source": [
    "# Useful Shortcuts"
   ]
  },
  {
   "cell_type": "code",
   "execution_count": 61,
   "metadata": {
    "collapsed": false
   },
   "outputs": [
    {
     "name": "stdout",
     "output_type": "stream",
     "text": [
      "11235"
     ]
    }
   ],
   "source": [
    "a, b = 0, 1 #multiple variable assignment\n",
    "\n",
    "while b < 6:\n",
    "    print(b, end=' ') # end='' -> don't include newline\n",
    "    a, b = b, a + b # hmmm"
   ]
  },
  {
   "cell_type": "markdown",
   "metadata": {
    "slideshow": {
     "slide_type": "slide"
    }
   },
   "source": [
    "# Defining Functions"
   ]
  },
  {
   "cell_type": "code",
   "execution_count": 63,
   "metadata": {
    "collapsed": false
   },
   "outputs": [
    {
     "name": "stdout",
     "output_type": "stream",
     "text": [
      "1 1 2 3 5 8 13 21 34 55 89 144 "
     ]
    }
   ],
   "source": [
    "def fib(n):\n",
    "    \"\"\"Print a fibonacci series up to n\"\"\"\n",
    "    a, b = 0, 1\n",
    "    while b < n:\n",
    "        print(b, end=' ')\n",
    "        a, b = b, a + b\n",
    "\n",
    "fib(200)"
   ]
  },
  {
   "cell_type": "markdown",
   "metadata": {},
   "source": [
    "- First line is the docstring\n",
    "- Scoping: first local, then global\n",
    "- Need `global` to assign global variables"
   ]
  },
  {
   "cell_type": "markdown",
   "metadata": {
    "slideshow": {
     "slide_type": "slide"
    }
   },
   "source": [
    "# Functions: default argument values"
   ]
  },
  {
   "cell_type": "code",
   "execution_count": 65,
   "metadata": {
    "collapsed": false
   },
   "outputs": [
    {
     "name": "stdout",
     "output_type": "stream",
     "text": [
      "WITH TRUE SPECIFIED AS ARG\n",
      "no arg given so default is used\n"
     ]
    }
   ],
   "source": [
    "def say(message, allCaps = False):\n",
    "    if(allCaps):\n",
    "        message = message.upper()\n",
    "    print(message)\n",
    "    \n",
    "say('with true specified as arg', True)\n",
    "say('no arg given so default is used')"
   ]
  },
  {
   "cell_type": "markdown",
   "metadata": {
    "slideshow": {
     "slide_type": "slide"
    }
   },
   "source": [
    "# Keyword arguments\n",
    "\n",
    "Last arguments can be given as keywords\n"
   ]
  },
  {
   "cell_type": "code",
   "execution_count": 68,
   "metadata": {
    "collapsed": false
   },
   "outputs": [
    {
     "name": "stdout",
     "output_type": "stream",
     "text": [
      "--This parrot wouldn't voom\n",
      "if you put 1000 Volts through it.\n",
      "Lovely plumage, the Norwegian blue\n",
      "It's a stiff !\n",
      "--This parrot wouldn't VOOOOM\n",
      "if you put 100000 Volts through it.\n",
      "Lovely plumage, the Norwegian blue\n",
      "It's a stiff !\n"
     ]
    }
   ],
   "source": [
    "def parrot(voltage, state='a stiff', action='voom', plumage='Norwegian blue'):\n",
    "    print(\"--This parrot wouldn't\", action)\n",
    "    print(\"if you put\", voltage, \"Volts through it.\")\n",
    "    print('Lovely plumage, the', plumage)\n",
    "    print(\"It's\", state, '!')\n",
    "\n",
    "parrot(1000)\n",
    "parrot(action='VOOOOM', voltage=100000)"
   ]
  },
  {
   "cell_type": "markdown",
   "metadata": {
    "slideshow": {
     "slide_type": "slide"
    }
   },
   "source": [
    "# Lambda forms\n",
    "- anonymous functions\n",
    "- can't contain multiple expressions\n",
    "- can accept multiple parameters"
   ]
  },
  {
   "cell_type": "code",
   "execution_count": 69,
   "metadata": {
    "collapsed": false
   },
   "outputs": [
    {
     "data": {
      "text/plain": [
       "10"
      ]
     },
     "execution_count": 69,
     "metadata": {},
     "output_type": "execute_result"
    }
   ],
   "source": [
    "doubleMe = lambda x: x*2\n",
    "doubleMe(5)"
   ]
  },
  {
   "cell_type": "markdown",
   "metadata": {
    "slideshow": {
     "slide_type": "slide"
    }
   },
   "source": [
    "# List Methods"
   ]
  },
  {
   "cell_type": "code",
   "execution_count": 74,
   "metadata": {
    "collapsed": false,
    "scrolled": true
   },
   "outputs": [
    {
     "name": "stdout",
     "output_type": "stream",
     "text": [
      "['mandela', 'mbeki', 'zuma', 'malema']\n"
     ]
    }
   ],
   "source": [
    "base = ['mandela', 'mbeki', 'zuma']\n",
    "base.append('malema') #add an element to end of list\n",
    "print(base)"
   ]
  },
  {
   "cell_type": "code",
   "execution_count": 75,
   "metadata": {
    "collapsed": false,
    "scrolled": true
   },
   "outputs": [
    {
     "name": "stdout",
     "output_type": "stream",
     "text": [
      "['mandela', 'mbeki', 'zuma', 'arjun', 'adam']\n"
     ]
    }
   ],
   "source": [
    "base = ['mandela', 'mbeki', 'zuma']\n",
    "base.extend(['arjun', 'adam']) #append all elements from one list to another\n",
    "print(base)"
   ]
  },
  {
   "cell_type": "code",
   "execution_count": 76,
   "metadata": {
    "collapsed": false,
    "scrolled": true
   },
   "outputs": [
    {
     "name": "stdout",
     "output_type": "stream",
     "text": [
      "['de klerk', 'mandela', 'mbeki', 'zuma']\n"
     ]
    }
   ],
   "source": [
    "base = ['mandela', 'mbeki', 'zuma']\n",
    "base.insert(0, 'de klerk') #inserts at specified position in list\n",
    "print(base)"
   ]
  },
  {
   "cell_type": "markdown",
   "metadata": {
    "slideshow": {
     "slide_type": "slide"
    }
   },
   "source": [
    "# List Methods (cont.)"
   ]
  },
  {
   "cell_type": "code",
   "execution_count": 79,
   "metadata": {
    "collapsed": false,
    "scrolled": true,
    "slideshow": {
     "slide_type": "-"
    }
   },
   "outputs": [
    {
     "name": "stdout",
     "output_type": "stream",
     "text": [
      "['mandela', 'zuma']\n"
     ]
    }
   ],
   "source": [
    "base = ['mandela', 'mbeki', 'zuma']\n",
    "base.remove('mbeki') #append all elements from one list to another\n",
    "print(base)"
   ]
  },
  {
   "cell_type": "code",
   "execution_count": 80,
   "metadata": {
    "collapsed": false,
    "scrolled": true
   },
   "outputs": [
    {
     "name": "stdout",
     "output_type": "stream",
     "text": [
      "zuma\n",
      "['mandela', 'mbeki']\n"
     ]
    }
   ],
   "source": [
    "base = ['mandela', 'mbeki', 'zuma']\n",
    "print(base.pop()) #return and remove last element\n",
    "print(base)"
   ]
  },
  {
   "cell_type": "code",
   "execution_count": 84,
   "metadata": {
    "collapsed": false,
    "scrolled": true,
    "slideshow": {
     "slide_type": "-"
    }
   },
   "outputs": [
    {
     "name": "stdout",
     "output_type": "stream",
     "text": [
      "1\n"
     ]
    }
   ],
   "source": [
    "base = ['mandela', 'mbeki', 'zuma']\n",
    "print(base.index('mbeki')) #return index of first occurence"
   ]
  },
  {
   "cell_type": "markdown",
   "metadata": {
    "slideshow": {
     "slide_type": "slide"
    }
   },
   "source": [
    "# List Methods (contd. again)"
   ]
  },
  {
   "cell_type": "code",
   "execution_count": 85,
   "metadata": {
    "collapsed": false,
    "scrolled": true,
    "slideshow": {
     "slide_type": "-"
    }
   },
   "outputs": [
    {
     "name": "stdout",
     "output_type": "stream",
     "text": [
      "3\n"
     ]
    }
   ],
   "source": [
    "numbers = [1, 2, 5, 2, 9, 2]\n",
    "print(numbers.count(2)) #count number of times item occurs"
   ]
  },
  {
   "cell_type": "code",
   "execution_count": 86,
   "metadata": {
    "collapsed": false,
    "scrolled": true,
    "slideshow": {
     "slide_type": "-"
    }
   },
   "outputs": [
    {
     "name": "stdout",
     "output_type": "stream",
     "text": [
      "[1, 2, 2, 2, 5, 9]\n"
     ]
    }
   ],
   "source": [
    "numbers = [1, 2, 5, 2, 9, 2]\n",
    "numbers.sort() #sort list in place\n",
    "print(numbers)"
   ]
  },
  {
   "cell_type": "code",
   "execution_count": 93,
   "metadata": {
    "collapsed": false,
    "scrolled": true,
    "slideshow": {
     "slide_type": "-"
    }
   },
   "outputs": [
    {
     "name": "stdout",
     "output_type": "stream",
     "text": [
      "[2, 9, 2, 5, 2, 1]\n"
     ]
    }
   ],
   "source": [
    "numbers = [1, 2, 5, 2, 9, 2]\n",
    "numbers.reverse() #reverse ordering\n",
    "print(numbers)"
   ]
  },
  {
   "cell_type": "markdown",
   "metadata": {
    "slideshow": {
     "slide_type": "slide"
    }
   },
   "source": [
    "# List Comprehensions\n",
    "These things are **so** cool"
   ]
  },
  {
   "cell_type": "code",
   "execution_count": 97,
   "metadata": {
    "collapsed": false,
    "scrolled": true
   },
   "outputs": [
    {
     "data": {
      "text/plain": [
       "[3, 6, 9, 12]"
      ]
     },
     "execution_count": 97,
     "metadata": {},
     "output_type": "execute_result"
    }
   ],
   "source": [
    "numbers = [1,2,3,4]\n",
    "[3*x for x in numbers] #cool"
   ]
  },
  {
   "cell_type": "code",
   "execution_count": 98,
   "metadata": {
    "collapsed": false
   },
   "outputs": [
    {
     "data": {
      "text/plain": [
       "[6, 12]"
      ]
     },
     "execution_count": 98,
     "metadata": {},
     "output_type": "execute_result"
    }
   ],
   "source": [
    "numbers = [1,2,3,4]\n",
    "[3*x for x in numbers if x%2 == 0] #cooler"
   ]
  },
  {
   "cell_type": "code",
   "execution_count": 99,
   "metadata": {
    "collapsed": false
   },
   "outputs": [
    {
     "data": {
      "text/plain": [
       "['hey friend',\n",
       " 'hey dude',\n",
       " 'hey mate',\n",
       " 'howzit friend',\n",
       " 'howzit dude',\n",
       " 'howzit mate',\n",
       " 'hello friend',\n",
       " 'hello dude',\n",
       " 'hello mate']"
      ]
     },
     "execution_count": 99,
     "metadata": {},
     "output_type": "execute_result"
    }
   ],
   "source": [
    "salutations = ['hey', 'howzit', 'hello']\n",
    "titles = ['friend', 'dude', 'mate']\n",
    "[s + ' ' + t for s in salutations for t in titles] #coolest"
   ]
  },
  {
   "cell_type": "markdown",
   "metadata": {
    "slideshow": {
     "slide_type": "slide"
    }
   },
   "source": [
    "# List Comprehension Structure\n",
    "\n",
    "\n",
    "## `[` *expression* `for` *item* `in` *list* `if` *conditional* `]`\n",
    "\n",
    "### Example:"
   ]
  },
  {
   "cell_type": "code",
   "execution_count": 100,
   "metadata": {
    "collapsed": false
   },
   "outputs": [
    {
     "data": {
      "text/plain": [
       "[6, 8, 10]"
      ]
     },
     "execution_count": 100,
     "metadata": {},
     "output_type": "execute_result"
    }
   ],
   "source": [
    "[x*2 for x in [1,2,3,4,5] if x > 2]"
   ]
  },
  {
   "cell_type": "markdown",
   "metadata": {
    "slideshow": {
     "slide_type": "slide"
    }
   },
   "source": [
    "# Dictionaries\n",
    "### key:value pair data structure\n",
    "- indexed by keys\n",
    "- keys may be any immutable type\n",
    "    - strings, numbers, tuples\n",
    "- do not preserve order\n"
   ]
  },
  {
   "cell_type": "code",
   "execution_count": 4,
   "metadata": {
    "collapsed": false
   },
   "outputs": [
    {
     "data": {
      "text/plain": [
       "{'Afrikaans': 20,\n",
       " 'English': 10,\n",
       " 'Sign Language': 0.5,\n",
       " 'isiXhosa': 16,\n",
       " 'isiZulu': 23}"
      ]
     },
     "execution_count": 4,
     "metadata": {},
     "output_type": "execute_result"
    }
   ],
   "source": [
    "languages = {'Afrikaans': 14, 'English': 10, 'isiXhosa': 16, 'isiZulu': 23}\n",
    "languages['Sign Language'] = 0.5\n",
    "languages['Afrikaans'] = languages['English'] * 2\n",
    "languages"
   ]
  },
  {
   "cell_type": "markdown",
   "metadata": {
    "slideshow": {
     "slide_type": "slide"
    }
   },
   "source": [
    "# Dictionaries (cont)\n"
   ]
  },
  {
   "cell_type": "code",
   "execution_count": 10,
   "metadata": {
    "collapsed": false
   },
   "outputs": [
    {
     "name": "stdout",
     "output_type": "stream",
     "text": [
      "dict_keys(['isiZulu', 'Afrikaans', 'isiXhosa'])\n"
     ]
    },
    {
     "data": {
      "text/plain": [
       "False"
      ]
     },
     "execution_count": 10,
     "metadata": {},
     "output_type": "execute_result"
    }
   ],
   "source": [
    "languages = {'Afrikaans': 14, 'English': 10, 'isiXhosa': 16, 'isiZulu': 23}\n",
    "del languages['English'] # delete with del\n",
    "print(languages.keys()) # view keys\n",
    "'English' in languages # check membership of key"
   ]
  },
  {
   "cell_type": "code",
   "execution_count": 42,
   "metadata": {
    "collapsed": false
   },
   "outputs": [
    {
     "data": {
      "text/plain": [
       "[{6: 36}, {2: 4}, {3: 9}, {4: 16}]"
      ]
     },
     "execution_count": 42,
     "metadata": {},
     "output_type": "execute_result"
    }
   ],
   "source": [
    "numbers = [6,2,3,4]\n",
    "#list comprehension creating dictionaries\n",
    "[{x: x**2} for x in numbers]"
   ]
  },
  {
   "cell_type": "markdown",
   "metadata": {
    "slideshow": {
     "slide_type": "slide"
    }
   },
   "source": [
    "# Modules\n",
    "\n",
    "- collection of functions and variables\n",
    "- avoid name clash for global variables\n",
    "- definitions can be imported\n",
    "- module **thing** must be called **`thing.py`**\n",
    "\n",
    "\n",
    "### `thing.py`:\n",
    "    def scream():\n",
    "        print('aaaaaaaaah')\n",
    "\n",
    "    storedSecret = 42"
   ]
  },
  {
   "cell_type": "markdown",
   "metadata": {
    "slideshow": {
     "slide_type": "slide"
    }
   },
   "source": [
    "# Using the thing.py module "
   ]
  },
  {
   "cell_type": "code",
   "execution_count": 5,
   "metadata": {
    "collapsed": false
   },
   "outputs": [
    {
     "name": "stdout",
     "output_type": "stream",
     "text": [
      "aaaaaaaaah\n"
     ]
    },
    {
     "data": {
      "text/plain": [
       "42"
      ]
     },
     "execution_count": 5,
     "metadata": {},
     "output_type": "execute_result"
    }
   ],
   "source": [
    "# import module into own namespace\n",
    "import thing\n",
    "thing.scream()\n",
    "thing.storedSecret"
   ]
  },
  {
   "cell_type": "code",
   "execution_count": 3,
   "metadata": {
    "collapsed": false
   },
   "outputs": [
    {
     "name": "stdout",
     "output_type": "stream",
     "text": [
      "aaaaaaaaah\n"
     ]
    },
    {
     "data": {
      "text/plain": [
       "42"
      ]
     },
     "execution_count": 3,
     "metadata": {},
     "output_type": "execute_result"
    }
   ],
   "source": [
    "# import specific items from module into global namespace\n",
    "from thing import scream, storedSecret\n",
    "scream()\n",
    "storedSecret"
   ]
  },
  {
   "cell_type": "code",
   "execution_count": 4,
   "metadata": {
    "collapsed": false
   },
   "outputs": [
    {
     "name": "stdout",
     "output_type": "stream",
     "text": [
      "aaaaaaaaah\n"
     ]
    },
    {
     "data": {
      "text/plain": [
       "42"
      ]
     },
     "execution_count": 4,
     "metadata": {},
     "output_type": "execute_result"
    }
   ],
   "source": [
    "#import all module contents directly into global namespace\n",
    "from thing import *\n",
    "scream()\n",
    "storedSecret"
   ]
  },
  {
   "cell_type": "markdown",
   "metadata": {
    "slideshow": {
     "slide_type": "slide"
    }
   },
   "source": [
    "# Using the thing.py module (cont)\n",
    "\n",
    "- `dir` shows module contents"
   ]
  },
  {
   "cell_type": "code",
   "execution_count": 6,
   "metadata": {
    "collapsed": false
   },
   "outputs": [
    {
     "data": {
      "text/plain": [
       "['__builtins__',\n",
       " '__cached__',\n",
       " '__doc__',\n",
       " '__file__',\n",
       " '__loader__',\n",
       " '__name__',\n",
       " '__package__',\n",
       " '__spec__',\n",
       " 'scream',\n",
       " 'storedSecret']"
      ]
     },
     "execution_count": 6,
     "metadata": {},
     "output_type": "execute_result"
    }
   ],
   "source": [
    "# view module contents\n",
    "import thing\n",
    "dir(thing)"
   ]
  },
  {
   "cell_type": "markdown",
   "metadata": {},
   "source": [
    "- double underscore sandwich indicates a property is hidden\n",
    "- many standard system modules (e.g. sys, os)\n",
    "- install packages from PyPi using `pip install thing`"
   ]
  },
  {
   "cell_type": "markdown",
   "metadata": {
    "slideshow": {
     "slide_type": "slide"
    }
   },
   "source": [
    "# Exceptions\n",
    "### Halt exectution down on stack, until caught\n",
    "\n",
    "- Parsing error: SyntaxError\n",
    "- Runtime errors: ZeroDivisionError, TypeError, ValueError\n",
    "\n",
    "### Throw errors with `raise ValueError(\"That didn't work because reason\")`\n"
   ]
  },
  {
   "cell_type": "code",
   "execution_count": 27,
   "metadata": {
    "collapsed": false
   },
   "outputs": [
    {
     "name": "stdout",
     "output_type": "stream",
     "text": [
      "Please enter a number:hey\n",
      "Not a valid number\n"
     ]
    }
   ],
   "source": [
    "try:\n",
    "    x = int(input('Please enter a number:'))\n",
    "    print(\"You actually enetered a number. Thanks. What a model user.\")\n",
    "except ValueError:\n",
    "    print('Not a valid number')\n"
   ]
  },
  {
   "cell_type": "code",
   "execution_count": null,
   "metadata": {
    "collapsed": true
   },
   "outputs": [],
   "source": []
  },
  {
   "cell_type": "markdown",
   "metadata": {
    "slideshow": {
     "slide_type": "slide"
    }
   },
   "source": [
    "# Classes\n",
    "### Encapsulate the nature of an entity\n",
    "- classes are objects\n",
    "- instaces, which are made from classes, are also objects\n",
    "- may redefine how arithmetic operators interact with instances\n",
    "- contains many statements, which define the class\n",
    "- functions and variables may be defined therein\n",
    "- creates a new namespace\n",
    "\n",
    "\n"
   ]
  },
  {
   "cell_type": "markdown",
   "metadata": {
    "slideshow": {
     "slide_type": "slide"
    }
   },
   "source": [
    "# Classes (cont.)\n"
   ]
  },
  {
   "cell_type": "code",
   "execution_count": 39,
   "metadata": {
    "collapsed": false
   },
   "outputs": [
    {
     "name": "stdout",
     "output_type": "stream",
     "text": [
      "1\n",
      "total produced: 2\n"
     ]
    }
   ],
   "source": [
    "class Car:\n",
    "    carsProduced = 0 # static variable\n",
    "    def __init__(self, inputColor, inputSeats): #__init__ is a special method, defining constructor\n",
    "        self.color = inputColor\n",
    "        self.seatsAvailable = inputSeats\n",
    "        Car.carsProduced = Car.carsProduced + 1\n",
    "    \n",
    "    def pickUp(self, passengers):\n",
    "        if self.seatsAvailable < passengers:\n",
    "            raise ValueError(str(passengers - self.seatsAvaialble) + ' passengers too many')\n",
    "        self.seatsAvailable = self.seatsAvailable - passengers\n",
    "            \n",
    "            \n",
    "firstCar = Car('red', 4)\n",
    "secondCar = Car('pink', 7)\n",
    "\n",
    "firstCar.pickUp(3)\n",
    "print(firstCar.seatsAvailable)\n",
    "print('total produced:', Car.carsProduced)"
   ]
  },
  {
   "cell_type": "markdown",
   "metadata": {
    "slideshow": {
     "slide_type": "slide"
    }
   },
   "source": [
    "# Class Objects\n",
    "\n",
    "- the first variable passed into ANY class method is a reference to the object calling it, conventionally called `self`, therefore:\n",
    "    - `myCar.pickUp(5)` is equivalent to `Car.pickUp(myCar, 5)`\n",
    "\n",
    "- Attributes can be directly created, accessed, and modified:\n",
    "\n",
    "\n",
    "    car = Car('red', 4)\n",
    "    car.newField = 10\n",
    "    \n",
    "- Attributes can be referenced:\n",
    "\n",
    "\n",
    "    myCar = Car('red', 5)\n",
    "    pickUpWithMyCar = myCar.pickUp\n",
    "\n",
    "- Impossible to hide attributes of objects, but the convention is to prefix private attributes with `__`, like `__myPrivateField`\n",
    "\n",
    "\n",
    "\n"
   ]
  },
  {
   "cell_type": "markdown",
   "metadata": {
    "slideshow": {
     "slide_type": "slide"
    }
   },
   "source": [
    "# Inheritance\n",
    "\n",
    "### Multiple Inheritance\n",
    "\n",
    "- inheriting from `>1` base class is possible\n",
    "- derived class can override any methods of its base class(es)\n",
    "- method may call method of base class named identically\n",
    "- an't use built-in types as base classes\n",
    "- use `super()` to get reference base class(es)\n",
    "\n",
    "\n",
    "\tclass Uber(Car):\n",
    "\t    def __init__(self, type):\n",
    "\t        if type == 'suv':\n",
    "\t            seats = 6\n",
    "\t        if type == 'black':\n",
    "\t            seats = 4\n",
    "\t        super().__init__('white', seats)\n",
    "\t    def pickUp(passengers):\n",
    "\t        print(\"You're getting billed\")\n",
    "\t        super().pickUp(passengers)\n",
    "            "
   ]
  },
  {
   "cell_type": "markdown",
   "metadata": {
    "slideshow": {
     "slide_type": "slide"
    }
   },
   "source": [
    "# Magic Methods\n",
    "\n",
    "### Special methods you can add to your class to do magic things, like:\n",
    "\n",
    "Allow arithmetic operators to be used on class objects:\n",
    "\n",
    "\tclass GreenConvoy(Car):\n",
    "\t\tdef __init__(self, seats):\n",
    "\t\t\tsuper().__init__('green', seats)\n",
    "\t\tdef __add__(self, other):\n",
    "\t\t\treturn GreenConvoy(self.seatsAvailable + other.seatsAvailable)\n",
    "\n",
    "    g = GreenConvoy(3)\n",
    "    g2 = GreenConvoy(4)\n",
    "    g3 = g2 + g \n",
    "\n",
    "`g3.seatsAvailable` is now `7`\n",
    "\n",
    "There are many, *many* [other magic methods](http://www.rafekettler.com/magicmethods.html).\n"
   ]
  }
 ],
 "metadata": {
  "celltoolbar": "Slideshow",
  "kernelspec": {
   "display_name": "Python 3",
   "language": "python",
   "name": "python3"
  },
  "language_info": {
   "codemirror_mode": {
    "name": "ipython",
    "version": 3
   },
   "file_extension": ".py",
   "mimetype": "text/x-python",
   "name": "python",
   "nbconvert_exporter": "python",
   "pygments_lexer": "ipython3",
   "version": "3.5.1"
  }
 },
 "nbformat": 4,
 "nbformat_minor": 0
}
