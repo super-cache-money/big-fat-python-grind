{
 "cells": [
  {
   "cell_type": "markdown",
   "metadata": {},
   "source": [
    "# Types (Classes)!"
   ]
  },
  {
   "cell_type": "markdown",
   "metadata": {},
   "source": [
    "We all know about the basic data types of Python:"
   ]
  },
  {
   "cell_type": "code",
   "execution_count": 2,
   "metadata": {
    "collapsed": false
   },
   "outputs": [
    {
     "data": {
      "text/plain": [
       "('1', 1, 1.0, [], {}, (1, 0))"
      ]
     },
     "execution_count": 2,
     "metadata": {},
     "output_type": "execute_result"
    }
   ],
   "source": [
    "'1', 1, 1.0, [], {}, (1,0)"
   ]
  },
  {
   "cell_type": "markdown",
   "metadata": {},
   "source": [
    "Each of these can simply be called a **type** in Python."
   ]
  },
  {
   "cell_type": "markdown",
   "metadata": {},
   "source": [
    "We can find what a type is called with the built in 'type()' function:"
   ]
  },
  {
   "cell_type": "code",
   "execution_count": 3,
   "metadata": {
    "collapsed": false
   },
   "outputs": [
    {
     "data": {
      "text/plain": [
       "(str, int, float, list, dict, tuple)"
      ]
     },
     "execution_count": 3,
     "metadata": {},
     "output_type": "execute_result"
    }
   ],
   "source": [
    "type('1'), type(1), type(1.0), type([]), type({}), type((1,0))"
   ]
  },
  {
   "cell_type": "markdown",
   "metadata": {},
   "source": [
    "All types have **Attributes** and **Methods**. Let's find out what these are for the list *[One]* by using the built in *dir()* function:"
   ]
  },
  {
   "cell_type": "code",
   "execution_count": 4,
   "metadata": {
    "collapsed": false
   },
   "outputs": [
    {
     "data": {
      "text/plain": [
       "['__add__',\n",
       " '__class__',\n",
       " '__contains__',\n",
       " '__delattr__',\n",
       " '__delitem__',\n",
       " '__dir__',\n",
       " '__doc__',\n",
       " '__eq__',\n",
       " '__format__',\n",
       " '__ge__',\n",
       " '__getattribute__',\n",
       " '__getitem__',\n",
       " '__gt__',\n",
       " '__hash__',\n",
       " '__iadd__',\n",
       " '__imul__',\n",
       " '__init__',\n",
       " '__iter__',\n",
       " '__le__',\n",
       " '__len__',\n",
       " '__lt__',\n",
       " '__mul__',\n",
       " '__ne__',\n",
       " '__new__',\n",
       " '__reduce__',\n",
       " '__reduce_ex__',\n",
       " '__repr__',\n",
       " '__reversed__',\n",
       " '__rmul__',\n",
       " '__setattr__',\n",
       " '__setitem__',\n",
       " '__sizeof__',\n",
       " '__str__',\n",
       " '__subclasshook__',\n",
       " 'append',\n",
       " 'clear',\n",
       " 'copy',\n",
       " 'count',\n",
       " 'extend',\n",
       " 'index',\n",
       " 'insert',\n",
       " 'pop',\n",
       " 'remove',\n",
       " 'reverse',\n",
       " 'sort']"
      ]
     },
     "execution_count": 4,
     "metadata": {},
     "output_type": "execute_result"
    }
   ],
   "source": [
    "dir(['One'])"
   ]
  },
  {
   "cell_type": "markdown",
   "metadata": {
    "slideshow": {
     "slide_type": "-"
    }
   },
   "source": [
    "Some of these are methods and some of these are attributes. Attributes are just properties a type has and methods are functions that a type has."
   ]
  },
  {
   "cell_type": "markdown",
   "metadata": {},
   "source": [
    "Let's have a look at one of each:"
   ]
  },
  {
   "cell_type": "code",
   "execution_count": 30,
   "metadata": {
    "collapsed": false
   },
   "outputs": [
    {
     "data": {
      "text/plain": [
       "<function pop>"
      ]
     },
     "execution_count": 30,
     "metadata": {},
     "output_type": "execute_result"
    }
   ],
   "source": [
    "['One'].pop"
   ]
  },
  {
   "cell_type": "markdown",
   "metadata": {},
   "source": [
    "This, as the console says, is a function (or method)."
   ]
  },
  {
   "cell_type": "markdown",
   "metadata": {},
   "source": [
    "To actually run it, lets call the method properly by adding its brackets:"
   ]
  },
  {
   "cell_type": "code",
   "execution_count": 31,
   "metadata": {
    "collapsed": false
   },
   "outputs": [
    {
     "data": {
      "text/plain": [
       "'One'"
      ]
     },
     "execution_count": 31,
     "metadata": {},
     "output_type": "execute_result"
    }
   ],
   "source": [
    "['One'].pop()"
   ]
  },
  {
   "cell_type": "markdown",
   "metadata": {},
   "source": [
    "Let's look at an Attribute, in this case the documentation for type:"
   ]
  },
  {
   "cell_type": "code",
   "execution_count": 32,
   "metadata": {
    "collapsed": false
   },
   "outputs": [
    {
     "name": "stdout",
     "output_type": "stream",
     "text": [
      "list() -> new empty list\n",
      "list(iterable) -> new list initialized from iterable's items\n"
     ]
    }
   ],
   "source": [
    "print ['One'].__doc__"
   ]
  },
  {
   "cell_type": "markdown",
   "metadata": {},
   "source": [
    "The reason why knowing this is handy, is that we can create our own types!"
   ]
  },
  {
   "cell_type": "markdown",
   "metadata": {},
   "source": [
    "Indeed, everything in Python is just a type. Types nowadays can also just be called **Classes**. So strings, ints, etc are classes and we can see their class name like so:"
   ]
  },
  {
   "cell_type": "code",
   "execution_count": 33,
   "metadata": {
    "collapsed": false
   },
   "outputs": [
    {
     "data": {
      "text/plain": [
       "list"
      ]
     },
     "execution_count": 33,
     "metadata": {},
     "output_type": "execute_result"
    }
   ],
   "source": [
    "['One'].__class__"
   ]
  },
  {
   "cell_type": "markdown",
   "metadata": {},
   "source": [
    "# Objects (Instances)!"
   ]
  },
  {
   "cell_type": "markdown",
   "metadata": {},
   "source": [
    "Something very important we will go over now, is **Objects**."
   ]
  },
  {
   "cell_type": "markdown",
   "metadata": {},
   "source": [
    "First let's consider that for example every list is the same type (a list), but every list is unique. Let's have a look at this thenomen, with the **is** python statement:"
   ]
  },
  {
   "cell_type": "code",
   "execution_count": 2,
   "metadata": {
    "collapsed": false
   },
   "outputs": [],
   "source": [
    "obj_1 = ['a']"
   ]
  },
  {
   "cell_type": "code",
   "execution_count": 3,
   "metadata": {
    "collapsed": false
   },
   "outputs": [],
   "source": [
    "obj_2 = ['a']"
   ]
  },
  {
   "cell_type": "code",
   "execution_count": 4,
   "metadata": {
    "collapsed": false
   },
   "outputs": [
    {
     "data": {
      "text/plain": [
       "False"
      ]
     },
     "execution_count": 4,
     "metadata": {},
     "output_type": "execute_result"
    }
   ],
   "source": [
    "obj_1 is obj_2"
   ]
  },
  {
   "cell_type": "markdown",
   "metadata": {},
   "source": [
    "But we can see that their values are still the same with the old fashioned equality statement:"
   ]
  },
  {
   "cell_type": "code",
   "execution_count": 5,
   "metadata": {
    "collapsed": false
   },
   "outputs": [
    {
     "data": {
      "text/plain": [
       "True"
      ]
     },
     "execution_count": 5,
     "metadata": {},
     "output_type": "execute_result"
    }
   ],
   "source": [
    "obj_1 == obj_2"
   ]
  },
  {
   "cell_type": "markdown",
   "metadata": {},
   "source": [
    "So they have the same value, are the same type, but are different **Objects**. Hence the term, object oriented programming!"
   ]
  },
  {
   "cell_type": "markdown",
   "metadata": {},
   "source": [
    "We can further prove that they are different by using the built in Python function **id()**, which will return a unique ID for all unique objects:"
   ]
  },
  {
   "cell_type": "code",
   "execution_count": 7,
   "metadata": {
    "collapsed": false
   },
   "outputs": [
    {
     "data": {
      "text/plain": [
       "(60783368L, 60394056L)"
      ]
     },
     "execution_count": 7,
     "metadata": {},
     "output_type": "execute_result"
    }
   ],
   "source": [
    "id(obj_1), id(obj_2)"
   ]
  },
  {
   "cell_type": "markdown",
   "metadata": {},
   "source": [
    "So another way of putting it is that obj_1 and obj_2 are each **Objects** that are **Instances** of the list **Class**"
   ]
  },
  {
   "cell_type": "markdown",
   "metadata": {},
   "source": [
    "Something to note is how we can create an Instance of a Class. The built in types such as list can, as we know have a new instance created like so: "
   ]
  },
  {
   "cell_type": "code",
   "execution_count": 16,
   "metadata": {
    "collapsed": false
   },
   "outputs": [
    {
     "data": {
      "text/plain": [
       "['a']"
      ]
     },
     "execution_count": 16,
     "metadata": {},
     "output_type": "execute_result"
    }
   ],
   "source": [
    "['a']"
   ]
  },
  {
   "cell_type": "markdown",
   "metadata": {},
   "source": [
    "That is in fact a shortcut for using what is called a **Class Constructor**, which is this (and does the same thing):"
   ]
  },
  {
   "cell_type": "code",
   "execution_count": 18,
   "metadata": {
    "collapsed": false
   },
   "outputs": [
    {
     "data": {
      "text/plain": [
       "['a']"
      ]
     },
     "execution_count": 18,
     "metadata": {},
     "output_type": "execute_result"
    }
   ],
   "source": [
    "list('a')"
   ]
  },
  {
   "cell_type": "markdown",
   "metadata": {},
   "source": [
    "Only Python's built in Types can have new instances created without directly calling a Class Constructor however.\n",
    "\n",
    "The class constructor is always the method called ```__init__```"
   ]
  },
  {
   "cell_type": "markdown",
   "metadata": {},
   "source": [
    "# Make our own!"
   ]
  },
  {
   "cell_type": "markdown",
   "metadata": {},
   "source": [
    "Lets say we want to have a new Python Type. Let's say we want something in between strings and numbers. Let's say we want a type that understands a number in word form. Let's call it **IntStr**!"
   ]
  },
  {
   "cell_type": "markdown",
   "metadata": {},
   "source": [
    "To create our new Type (which is the same as a Class) we declare it like so:"
   ]
  },
  {
   "cell_type": "code",
   "execution_count": 8,
   "metadata": {
    "collapsed": true
   },
   "outputs": [],
   "source": [
    "class IntStr():\n",
    "    pass"
   ]
  },
  {
   "cell_type": "markdown",
   "metadata": {},
   "source": [
    "It's an empty skeleton, but let's see if python understands this as a class and can give it an instance of it:"
   ]
  },
  {
   "cell_type": "code",
   "execution_count": 15,
   "metadata": {
    "collapsed": false
   },
   "outputs": [
    {
     "data": {
      "text/plain": [
       "(classobj, instance)"
      ]
     },
     "execution_count": 15,
     "metadata": {},
     "output_type": "execute_result"
    }
   ],
   "source": [
    "type(IntStr), type(IntStr())"
   ]
  },
  {
   "cell_type": "markdown",
   "metadata": {},
   "source": [
    "So we have a Class ```classobj``` and an Instance of that Class ```instance``` that we got by calling it's Constructor ```IntStr()```"
   ]
  },
  {
   "cell_type": "markdown",
   "metadata": {},
   "source": [
    "Let's make our new Type functional by filling it in!"
   ]
  },
  {
   "cell_type": "markdown",
   "metadata": {},
   "source": [
    "Before we begin we first need a Dictionary to map numbers to words:"
   ]
  },
  {
   "cell_type": "code",
   "execution_count": 12,
   "metadata": {
    "collapsed": true
   },
   "outputs": [],
   "source": [
    "STRING_NUMBER = {\n",
    "    'one': 1,\n",
    "    'two': 2,\n",
    "    'three': 3,\n",
    "    'four': 4,\n",
    "    'five': 5,\n",
    "    'six': 6,\n",
    "    'seven': 7,\n",
    "    'eight': 8,\n",
    "    'nine': 9,\n",
    "    'ten': 10,\n",
    "    'eleven': 11,\n",
    "    'twelve': 12,\n",
    "    'thirteen': 13,\n",
    "    'fourteen': 14,\n",
    "    'fithteen': 15,\n",
    "    'sixteen': 16,\n",
    "    'seventeen': 17,\n",
    "    'eighteen': 18,\n",
    "    'nineteen': 19,\n",
    "    'twenty': 20\n",
    "}"
   ]
  },
  {
   "cell_type": "markdown",
   "metadata": {},
   "source": [
    "Now let's have our Class Constructor do something useful with that. We are going to add a **constructor**, which is a method that must be called ```__init__```, as that's what Python looks for:"
   ]
  },
  {
   "cell_type": "code",
   "execution_count": 2,
   "metadata": {
    "collapsed": true
   },
   "outputs": [],
   "source": [
    "class IntStr():\n",
    "\n",
    "    def __init__(self, intstr):\n",
    "        self.int = STRING_NUMBER[intstr]"
   ]
  },
  {
   "cell_type": "markdown",
   "metadata": {},
   "source": [
    "Notice that we defined an attribute in the constructor called ```.int```. What this does is attatch the attribute to an instance created by the constructor, where ```self``` in the construtor refers to that instance."
   ]
  },
  {
   "cell_type": "markdown",
   "metadata": {},
   "source": [
    "Now we will create an instance of IntStr:"
   ]
  },
  {
   "cell_type": "code",
   "execution_count": 4,
   "metadata": {
    "collapsed": false
   },
   "outputs": [],
   "source": [
    "x = IntStr('one')"
   ]
  },
  {
   "cell_type": "markdown",
   "metadata": {},
   "source": [
    "And see if it understands the string we gave to the constructor:"
   ]
  },
  {
   "cell_type": "code",
   "execution_count": 23,
   "metadata": {
    "collapsed": false
   },
   "outputs": [
    {
     "data": {
      "text/plain": [
       "1"
      ]
     },
     "execution_count": 23,
     "metadata": {},
     "output_type": "execute_result"
    }
   ],
   "source": [
    "x.int"
   ]
  },
  {
   "cell_type": "markdown",
   "metadata": {},
   "source": [
    "We are going to improve on it a bit, so that it can handle it being given proper numbers (eg: ```1```), string versions of the number (eg: ```'1'```) and word versions of numbers that are not in lowercase letters (eg: ```'ONE'```):"
   ]
  },
  {
   "cell_type": "code",
   "execution_count": 5,
   "metadata": {
    "collapsed": true
   },
   "outputs": [],
   "source": [
    " class IntStr():\n",
    "\n",
    "    def __init__(self, intstr):\n",
    "        try:\n",
    "            self.int = int(intstr)\n",
    "        except:\n",
    "            intstr = intstr.lower()\n",
    "            self.int = STRING_NUMBER.get(intstr,None)\n",
    "        if not self.int:\n",
    "            raise ValueError(\"Not a recognized string representation of a \\\n",
    "                    number!\")\n",
    "        for k,v in STRING_NUMBER.items():\n",
    "            if v == self.int:\n",
    "                self.word = k"
   ]
  },
  {
   "cell_type": "markdown",
   "metadata": {},
   "source": [
    "So what it does now is it first gives the input value to the built in Python **int** constructor, which will accept numbers and string versions of numbers for us. Then if that doesn't work (```except```) it means that the input value is probably a word version of a string, which is what we must handle ourselves."
   ]
  },
  {
   "cell_type": "markdown",
   "metadata": {},
   "source": [
    "To make sure we handle upper case letters, we just go ahead and convert all the letters to lower case by usingthe ```.lower()``` method on our input string. Then we find it in the dictionary and we have the number. If none of the above works, then we return an error (```raise ValueError()```)."
   ]
  },
  {
   "cell_type": "markdown",
   "metadata": {},
   "source": [
    "Finally we want to store the proper word version of the number as well as the number itself, so we search through the dictionary to find where the number matches a key and set the ```.word``` attribute to that key."
   ]
  },
  {
   "cell_type": "markdown",
   "metadata": {},
   "source": [
    "And here we can see our class acltually handling all those different kinds input values:"
   ]
  },
  {
   "cell_type": "code",
   "execution_count": 35,
   "metadata": {
    "collapsed": false
   },
   "outputs": [
    {
     "data": {
      "text/plain": [
       "'two'"
      ]
     },
     "execution_count": 35,
     "metadata": {},
     "output_type": "execute_result"
    }
   ],
   "source": [
    "IntStr(2).word"
   ]
  },
  {
   "cell_type": "code",
   "execution_count": 36,
   "metadata": {
    "collapsed": false
   },
   "outputs": [
    {
     "data": {
      "text/plain": [
       "'two'"
      ]
     },
     "execution_count": 36,
     "metadata": {},
     "output_type": "execute_result"
    }
   ],
   "source": [
    "IntStr('2').word"
   ]
  },
  {
   "cell_type": "code",
   "execution_count": 37,
   "metadata": {
    "collapsed": false
   },
   "outputs": [
    {
     "data": {
      "text/plain": [
       "'two'"
      ]
     },
     "execution_count": 37,
     "metadata": {},
     "output_type": "execute_result"
    }
   ],
   "source": [
    "IntStr('TwO').word"
   ]
  },
  {
   "cell_type": "code",
   "execution_count": 6,
   "metadata": {
    "collapsed": false
   },
   "outputs": [
    {
     "ename": "NameError",
     "evalue": "name 'STRING_NUMBER' is not defined",
     "output_type": "error",
     "traceback": [
      "\u001b[0;31m---------------------------------------------------------------------------\u001b[0m",
      "\u001b[0;31mValueError\u001b[0m                                Traceback (most recent call last)",
      "\u001b[0;32m<ipython-input-5-b673b6be43d8>\u001b[0m in \u001b[0;36m__init__\u001b[0;34m(self, intstr)\u001b[0m\n\u001b[1;32m      4\u001b[0m        \u001b[0;32mtry\u001b[0m\u001b[0;34m:\u001b[0m\u001b[0;34m\u001b[0m\u001b[0m\n\u001b[0;32m----> 5\u001b[0;31m            \u001b[0mself\u001b[0m\u001b[0;34m.\u001b[0m\u001b[0mint\u001b[0m \u001b[0;34m=\u001b[0m \u001b[0mint\u001b[0m\u001b[0;34m(\u001b[0m\u001b[0mintstr\u001b[0m\u001b[0;34m)\u001b[0m\u001b[0;34m\u001b[0m\u001b[0m\n\u001b[0m\u001b[1;32m      6\u001b[0m        \u001b[0;32mexcept\u001b[0m\u001b[0;34m:\u001b[0m\u001b[0;34m\u001b[0m\u001b[0m\n",
      "\u001b[0;31mValueError\u001b[0m: invalid literal for int() with base 10: 'Gibberish'",
      "\nDuring handling of the above exception, another exception occurred:\n",
      "\u001b[0;31mNameError\u001b[0m                                 Traceback (most recent call last)",
      "\u001b[0;32m<ipython-input-6-99915fd403ee>\u001b[0m in \u001b[0;36m<module>\u001b[0;34m()\u001b[0m\n\u001b[0;32m----> 1\u001b[0;31m \u001b[0mIntStr\u001b[0m\u001b[0;34m(\u001b[0m\u001b[0;34m'Gibberish'\u001b[0m\u001b[0;34m)\u001b[0m\u001b[0;34m.\u001b[0m\u001b[0mword\u001b[0m\u001b[0;34m\u001b[0m\u001b[0m\n\u001b[0m",
      "\u001b[0;32m<ipython-input-5-b673b6be43d8>\u001b[0m in \u001b[0;36m__init__\u001b[0;34m(self, intstr)\u001b[0m\n\u001b[1;32m      6\u001b[0m        \u001b[0;32mexcept\u001b[0m\u001b[0;34m:\u001b[0m\u001b[0;34m\u001b[0m\u001b[0m\n\u001b[1;32m      7\u001b[0m            \u001b[0mintstr\u001b[0m \u001b[0;34m=\u001b[0m \u001b[0mintstr\u001b[0m\u001b[0;34m.\u001b[0m\u001b[0mlower\u001b[0m\u001b[0;34m(\u001b[0m\u001b[0;34m)\u001b[0m\u001b[0;34m\u001b[0m\u001b[0m\n\u001b[0;32m----> 8\u001b[0;31m            \u001b[0mself\u001b[0m\u001b[0;34m.\u001b[0m\u001b[0mint\u001b[0m \u001b[0;34m=\u001b[0m \u001b[0mSTRING_NUMBER\u001b[0m\u001b[0;34m.\u001b[0m\u001b[0mget\u001b[0m\u001b[0;34m(\u001b[0m\u001b[0mintstr\u001b[0m\u001b[0;34m,\u001b[0m\u001b[0;32mNone\u001b[0m\u001b[0;34m)\u001b[0m\u001b[0;34m\u001b[0m\u001b[0m\n\u001b[0m\u001b[1;32m      9\u001b[0m        \u001b[0;32mif\u001b[0m \u001b[0;32mnot\u001b[0m \u001b[0mself\u001b[0m\u001b[0;34m.\u001b[0m\u001b[0mint\u001b[0m\u001b[0;34m:\u001b[0m\u001b[0;34m\u001b[0m\u001b[0m\n\u001b[1;32m     10\u001b[0m            \u001b[0;32mraise\u001b[0m \u001b[0mValueError\u001b[0m\u001b[0;34m(\u001b[0m\u001b[0;34m\"Not a recognized string representation of a                    number!\"\u001b[0m\u001b[0;34m)\u001b[0m\u001b[0;34m\u001b[0m\u001b[0m\n",
      "\u001b[0;31mNameError\u001b[0m: name 'STRING_NUMBER' is not defined"
     ]
    }
   ],
   "source": [
    "IntStr('Gibberish').word"
   ]
  },
  {
   "cell_type": "markdown",
   "metadata": {},
   "source": [
    "Finally, let's add some documentation to our class, by adding what is called a docstring. A doc string is kept in the attribute called ```__doc__``` as we saw earlier, which is empty at the moment:"
   ]
  },
  {
   "cell_type": "code",
   "execution_count": 26,
   "metadata": {
    "collapsed": true
   },
   "outputs": [],
   "source": [
    "IntStr.__doc__"
   ]
  },
  {
   "cell_type": "markdown",
   "metadata": {},
   "source": [
    "To add a docstring, all we have to do is place a string as the first line of the class (or method, function or even the whole file (module) if you want to add documentation for those too):"
   ]
  },
  {
   "cell_type": "code",
   "execution_count": 7,
   "metadata": {
    "collapsed": true
   },
   "outputs": [],
   "source": [
    " class IntStr():\n",
    "    \"\"\"Understands text version of numbers and allows you to manipulate them\n",
    "    as numbers.\n",
    "    \n",
    "    Args:\n",
    "      intstr (str): A number word (such as 'two') or string repr of an int\n",
    "      (such as '2') up to 20.\n",
    "    \"\"\"\n",
    "        \n",
    "    def __init__(self, intstr):\n",
    "        try:\n",
    "            self.int = int(intstr)\n",
    "        except:\n",
    "            intstr = intstr.lower()\n",
    "            self.int = STRING_NUMBER.get(intstr,None)\n",
    "        if not self.int:\n",
    "            raise ValueError(\"Not a recognized string representation of a \\\n",
    "                    number!\")\n",
    "        for k,v in STRING_NUMBER.items():\n",
    "            if v == self.int:\n",
    "                self.word = k"
   ]
  },
  {
   "cell_type": "markdown",
   "metadata": {},
   "source": [
    "And now it has documentation:"
   ]
  },
  {
   "cell_type": "code",
   "execution_count": 41,
   "metadata": {
    "collapsed": false
   },
   "outputs": [
    {
     "data": {
      "text/plain": [
       "\"Understands text version of numbers and allows you to manipulate them\\n   as numbers.\\n   \\n   Args:\\n     intstr (str): A number word (such as 'two') or string repr of an int\\n     (such as '2') up to 20.\\n   \""
      ]
     },
     "execution_count": 41,
     "metadata": {},
     "output_type": "execute_result"
    }
   ],
   "source": [
    "IntStr.__doc__"
   ]
  },
  {
   "cell_type": "markdown",
   "metadata": {},
   "source": [
    "# Magic Methods"
   ]
  },
  {
   "cell_type": "markdown",
   "metadata": {},
   "source": [
    "We finished a basic class that can take input values and do one thing with it, but let's make it more useful by using what are called **magic methods**."
   ]
  },
  {
   "cell_type": "markdown",
   "metadata": {},
   "source": [
    "Magic methods are special method names (like ```__init__``` or ```__doc__```) that the python interpreter understands and can do special things with, like a constructor or documentation."
   ]
  },
  {
   "cell_type": "markdown",
   "metadata": {},
   "source": [
    "Let's first had an object representation value for our class, as at the moment when we see what our objects look like, we get this:"
   ]
  },
  {
   "cell_type": "code",
   "execution_count": 42,
   "metadata": {
    "collapsed": false
   },
   "outputs": [
    {
     "data": {
      "text/plain": [
       "<__main__.IntStr at 0x7f1ab46fae10>"
      ]
     },
     "execution_count": 42,
     "metadata": {},
     "output_type": "execute_result"
    }
   ],
   "source": [
    "IntStr('Five')"
   ]
  },
  {
   "cell_type": "markdown",
   "metadata": {},
   "source": [
    "This is because Python doesn't know what to show us and so just shows a default value that tells us what the class name is and a reference to where it's stored in memory."
   ]
  },
  {
   "cell_type": "markdown",
   "metadata": {},
   "source": [
    "To have it return something else, all we need to do is make a method called ```__repr__``` and have that method return whatever we want, which in this case will be the word version of the string:"
   ]
  },
  {
   "cell_type": "code",
   "execution_count": 13,
   "metadata": {
    "collapsed": true
   },
   "outputs": [],
   "source": [
    "class IntStr():\n",
    "    \"\"\"Understands text version of numbers and allows you to manipulate     them\n",
    "    as numbers.\n",
    "    \n",
    "    Args:\n",
    "      intstr (str): A number word (such as 'two') or string repr of an int\n",
    "      (such as '2') up to 20.\n",
    "    \"\"\"\n",
    "        \n",
    "    def __init__(self, intstr):\n",
    "        try:\n",
    "            self.int = int(intstr)\n",
    "        except:\n",
    "            intstr = intstr.lower()\n",
    "            self.int = STRING_NUMBER.get(intstr,None)\n",
    "        if not self.int:\n",
    "            raise ValueError(\"Not a recognized string representation of a \\\n",
    "                    number!\")\n",
    "        for k,v in STRING_NUMBER.items():\n",
    "            if v == self.int:\n",
    "                self.word = k\n",
    "            \n",
    "    def __repr__(self):\n",
    "        \"\"\"Returns the word version of number\"\"\"\n",
    "        return self.word"
   ]
  },
  {
   "cell_type": "code",
   "execution_count": 44,
   "metadata": {
    "collapsed": false
   },
   "outputs": [
    {
     "data": {
      "text/plain": [
       "five"
      ]
     },
     "execution_count": 44,
     "metadata": {},
     "output_type": "execute_result"
    }
   ],
   "source": [
    "IntStr('Five')"
   ]
  },
  {
   "cell_type": "markdown",
   "metadata": {},
   "source": [
    "Since our class understands word numbers as actual numbers, What about doing basic algebra with our objects?"
   ]
  },
  {
   "cell_type": "markdown",
   "metadata": {},
   "source": [
    "**+**, **-** and the other arithmetic operations are just shortcuts to the magic methods ```__add__```, ```__sub__``` and so on. So we can see that these do the same things:"
   ]
  },
  {
   "cell_type": "code",
   "execution_count": 51,
   "metadata": {
    "collapsed": false
   },
   "outputs": [
    {
     "data": {
      "text/plain": [
       "2"
      ]
     },
     "execution_count": 51,
     "metadata": {},
     "output_type": "execute_result"
    }
   ],
   "source": [
    "one = 1\n",
    "one + one"
   ]
  },
  {
   "cell_type": "code",
   "execution_count": 52,
   "metadata": {
    "collapsed": false
   },
   "outputs": [
    {
     "data": {
      "text/plain": [
       "2"
      ]
     },
     "execution_count": 52,
     "metadata": {},
     "output_type": "execute_result"
    }
   ],
   "source": [
    "one.__add__(one)"
   ]
  },
  {
   "cell_type": "markdown",
   "metadata": {},
   "source": [
    "So we can add those to our class as well:"
   ]
  },
  {
   "cell_type": "code",
   "execution_count": 14,
   "metadata": {
    "collapsed": true
   },
   "outputs": [],
   "source": [
    "class IntStr():\n",
    "    \"\"\"Understands text version of numbers and allows you to manipulate them\n",
    "    as numbers.\n",
    "    \n",
    "    Args:\n",
    "      intstr (str): A number word (such as 'two') or string repr of an int\n",
    "      (such as '2') up to 20.\n",
    "    \"\"\"\n",
    "        \n",
    "    def __init__(self, intstr):\n",
    "        try:\n",
    "            self.int = int(intstr)\n",
    "        except:\n",
    "            intstr = intstr.lower()\n",
    "            self.int = STRING_NUMBER.get(intstr,None)\n",
    "        if not self.int:\n",
    "            raise ValueError(\"Not a recognized string representation of a \\\n",
    "                    number!\")\n",
    "        for k,v in STRING_NUMBER.items():\n",
    "            if v == self.int:\n",
    "                self.word = k\n",
    "            \n",
    "    def __repr__(self):\n",
    "        \"\"\"Returns the word version of number\"\"\"\n",
    "        return self.word\n",
    "    \n",
    "    def __add__(self, b):\n",
    "        \"\"\"Adds the ints together and returns the word version of it\"\"\"\n",
    "        res = self.int + b.int\n",
    "        return IntStr(res).word\n",
    "    \n",
    "    def __sub__(self, b):\n",
    "        \"\"\"Gets the difference and returns the word version of it\"\"\"\n",
    "        res = self.int - b.int\n",
    "        return IntStr(res).word"
   ]
  },
  {
   "cell_type": "markdown",
   "metadata": {},
   "source": [
    "Now let's test it!"
   ]
  },
  {
   "cell_type": "code",
   "execution_count": 15,
   "metadata": {
    "collapsed": false
   },
   "outputs": [
    {
     "data": {
      "text/plain": [
       "'twelve'"
      ]
     },
     "execution_count": 15,
     "metadata": {},
     "output_type": "execute_result"
    }
   ],
   "source": [
    "IntStr('Five') + IntStr('SEVEN')"
   ]
  },
  {
   "cell_type": "code",
   "execution_count": 16,
   "metadata": {
    "collapsed": false
   },
   "outputs": [
    {
     "data": {
      "text/plain": [
       "'eight'"
      ]
     },
     "execution_count": 16,
     "metadata": {},
     "output_type": "execute_result"
    }
   ],
   "source": [
    "IntStr('Eighteen') - IntStr('ten')"
   ]
  }
 ],
 "metadata": {
  "kernelspec": {
   "display_name": "Python 3",
   "language": "python",
   "name": "python3"
  },
  "language_info": {
   "codemirror_mode": {
    "name": "ipython",
    "version": 3
   },
   "file_extension": ".py",
   "mimetype": "text/x-python",
   "name": "python",
   "nbconvert_exporter": "python",
   "pygments_lexer": "ipython3",
   "version": "3.5.1"
  }
 },
 "nbformat": 4,
 "nbformat_minor": 0
}
